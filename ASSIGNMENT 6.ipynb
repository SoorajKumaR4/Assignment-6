{
 "cells": [
  {
   "cell_type": "markdown",
   "id": "ad457185",
   "metadata": {},
   "source": [
    "1. What are escape characters, and how do you use them?\n",
    "\n",
    "A. Escape characters represent characters in string values that would otherwise be difficult or impossible to type into code. An escape character is a backslash \\ followed by the character you want to insert."
   ]
  },
  {
   "cell_type": "markdown",
   "id": "2b8cf1dd",
   "metadata": {},
   "source": [
    "2. What do the escape characters n and t stand for?\n",
    "\n",
    "A. /n represents new line, /t represent new tab."
   ]
  },
  {
   "cell_type": "markdown",
   "id": "698fd816",
   "metadata": {},
   "source": [
    "3. What is the way to include backslash characters in a string? \n",
    "\n",
    "A. We can the syntax \"\\\\\" within the string literal to represent a single backslash."
   ]
  },
  {
   "cell_type": "markdown",
   "id": "e5ea0a2c",
   "metadata": {},
   "source": [
    "4. The string \"Howl's Moving Castle\" is a correct value. Why isn't the single quote character in the word \"Howl's Moving Castle\" not escaped a problem?\n",
    "\n",
    "A. We can use  Howl's with single quote because we have used double quotes to mark the beginning and end of the string."
   ]
  },
  {
   "cell_type": "markdown",
   "id": "d94271dc",
   "metadata": {},
   "source": [
    "5. How do you write a string of newlines if you don't want to use the n character?\n",
    "\n",
    "A. We can use multiline strings for ex: \"\"\"\"\"\" to do this."
   ]
  },
  {
   "cell_type": "markdown",
   "id": "02685a7b",
   "metadata": {},
   "source": [
    "What are the values of the given expressions?\n",
    "'Hello, world!'[1]\n",
    "'Hello, world!'[0:5]\n",
    "'Hello, world!'[:5]\n",
    "'Hello, world!'[3:]\n",
    "\n",
    "A. Below are the values of the given expression:\n",
    "\n",
    "'e'\n",
    "\n",
    "'Hello'\n",
    "\n",
    "'Hello'\n",
    "\n",
    "'lo world!"
   ]
  },
  {
   "cell_type": "markdown",
   "id": "fa260faa",
   "metadata": {},
   "source": [
    "7. What are the values of the following expressions?\n",
    "'Hello'.upper()\n",
    "'Hello'.upper().isupper()\n",
    "'Hello'.upper().lower()\n",
    "\n",
    "A. The values give us the following:\n",
    "\n",
    "'HELLO'\n",
    "\n",
    "True\n",
    "\n",
    "'hello'"
   ]
  },
  {
   "cell_type": "markdown",
   "id": "242a0ee1",
   "metadata": {},
   "source": [
    "8. What are the values of the following expressions?\n",
    "'Remember, remember, the fifth of July.split()\n",
    "'-'.join('There can only one.'.split())\n",
    "\n",
    "A. Split function splits them individually;\n",
    "\n",
    "['Remember,', 'remember,', 'the', 'fifth', 'of', 'July.']\n",
    "\n",
    "join will be:\n",
    "'There-can-only-one.'\n"
   ]
  },
  {
   "cell_type": "markdown",
   "id": "961692ed",
   "metadata": {},
   "source": [
    "9. What are the methods for right-justifying, left-justifying, and centering a string?\n",
    "\n",
    "A. We can use rjust(), ljust(), and center() string methods."
   ]
  },
  {
   "cell_type": "markdown",
   "id": "fa389925",
   "metadata": {},
   "source": [
    "10. What is the best way to remove whitespace characters from the start or end?\n",
    "\n",
    "A. The lstrip() and rstrip() methods remove whitespace from the begining and ends of a string."
   ]
  }
 ],
 "metadata": {
  "kernelspec": {
   "display_name": "Python 3 (ipykernel)",
   "language": "python",
   "name": "python3"
  },
  "language_info": {
   "codemirror_mode": {
    "name": "ipython",
    "version": 3
   },
   "file_extension": ".py",
   "mimetype": "text/x-python",
   "name": "python",
   "nbconvert_exporter": "python",
   "pygments_lexer": "ipython3",
   "version": "3.9.7"
  }
 },
 "nbformat": 4,
 "nbformat_minor": 5
}
